{
 "cells": [
  {
   "cell_type": "code",
   "execution_count": 4,
   "id": "c9ed55f8-b325-4e15-958f-a5e173995d02",
   "metadata": {},
   "outputs": [],
   "source": [
    "import torch\n",
    "import torch.nn as nn\n",
    "from torchvision import models\n",
    "from torch.nn.functional import relu\n"
   ]
  },
  {
   "cell_type": "code",
   "execution_count": 9,
   "id": "6544ab05-2a1a-46df-9ab0-3e2c8ba96a29",
   "metadata": {},
   "outputs": [],
   "source": [
    "class UNetDenoise(nn.Module):\n",
    "    #layers definition\n",
    "    def __init__(self, n_class): #constructor for uNetDenoise\n",
    "        super().__init__() #constructor of parent class to init inherited attributes\n",
    "        #Encoder portion, with 256x256x3 input. Padding: same for 3x3 convolutions\n",
    "\n",
    "        #1st downsample layer\n",
    "        self.conv11 = nn.Conv2d(1,64,kernel_size=3, padding=1) #dataset images are black and white\n",
    "        self.conv12 = nn.Conv2d(64,64, kernel_size=3, padding=1) #keep padding same, (kernselSize-1)/2\n",
    "        self.pool1=nn.MaxPool2d(kernel_size=2, stride=2)\n",
    "\n",
    "        #2nd downsample layer\n",
    "        self.conv21 = nn.Conv2d(64,128,kernel_size=3, padding=1)\n",
    "        self.conv22 = nn.Conv2d(128,128,kernel_size=3, padding=1)\n",
    "        self.pool2=nn.MaxPool2d(kernel_size=2, stride=2)\n",
    "\n",
    "        #3rd downsample layer\n",
    "        self.conv31 = nn.Conv2d(128,256,kernel_size=3, padding=1)\n",
    "        self.conv32 = nn.Conv2d(256,256,kernel_size=3, padding=1)\n",
    "        self.pool3=nn.MaxPool2d(kernel_size=2, stride=2)\n",
    "\n",
    "        #4th downsample layer\n",
    "        self.conv41 = nn.Conv2d(256,512,kernel_size=3, padding=1)\n",
    "        self.conv42 = nn.Conv2d(512,512,kernel_size=3, padding=1)\n",
    "        self.pool4=nn.MaxPool2d(kernel_size=2, stride=2)\n",
    "\n",
    "        #bottle neck\n",
    "        self.conv61 = nn.Conv2d(512,1024,kernel_size=3, padding=1)\n",
    "        self.conv62 = nn.Conv2d(1024,1024,kernel_size=3, padding=1)\n",
    "\n",
    "        #upsample 1\n",
    "        self.upconv1 = nn.ConvTranspose2d(1024,512,kernel_size=2,stride=2) #1024, but half \n",
    "        self.u11 = nn.Conv2d(1024, 512, kernel_size=3, padding=1)\n",
    "        self.u12 = nn.Conv2d(512, 512, kernel_size=3, padding=1)\n",
    "\n",
    "        #upsample 2\n",
    "        self.upconv2 = nn.ConvTranspose2d(512,256,kernel_size=2,stride=2)\n",
    "        self.u21 = nn.Conv2d(512, 256, kernel_size=3, padding=1)\n",
    "        self.u22 = nn.Conv2d(256, 256, kernel_size=3, padding=1)\n",
    "\n",
    "        #upsample 3\n",
    "        self.upconv3 = nn.ConvTranspose2d(256,128,kernel_size=2,stride=2)\n",
    "        self.u31 = nn.Conv2d(256, 128, kernel_size=3, padding=1)\n",
    "        self.u32 = nn.Conv2d(128, 128, kernel_size=3, padding=1)\n",
    "\n",
    "        #upsample 4\n",
    "        self.upconv4 = nn.ConvTranspose2d(128,64,kernel_size=2,stride=2)\n",
    "        self.u41 = nn.Conv2d(128, 64, kernel_size=3, padding=1)\n",
    "        self.u42 = nn.Conv2d(64, 64, kernel_size=3, padding=1)\n",
    "\n",
    "    def \n",
    "\n",
    "        "
   ]
  },
  {
   "cell_type": "code",
   "execution_count": null,
   "id": "f8b914c7-cd0a-4f92-9865-5576ad5202f9",
   "metadata": {},
   "outputs": [],
   "source": []
  }
 ],
 "metadata": {
  "kernelspec": {
   "display_name": "Python 3 (ipykernel)",
   "language": "python",
   "name": "python3"
  },
  "language_info": {
   "codemirror_mode": {
    "name": "ipython",
    "version": 3
   },
   "file_extension": ".py",
   "mimetype": "text/x-python",
   "name": "python",
   "nbconvert_exporter": "python",
   "pygments_lexer": "ipython3",
   "version": "3.12.1"
  }
 },
 "nbformat": 4,
 "nbformat_minor": 5
}
